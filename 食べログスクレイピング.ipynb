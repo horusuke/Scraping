{
  "nbformat": 4,
  "nbformat_minor": 0,
  "metadata": {
    "colab": {
      "name": "食べログスクレイピング.ipynb",
      "provenance": [],
      "collapsed_sections": []
    },
    "kernelspec": {
      "name": "python3",
      "display_name": "Python 3"
    },
    "language_info": {
      "name": "python"
    }
  },
  "cells": [
    {
      "cell_type": "code",
      "execution_count": null,
      "metadata": {
        "id": "Q01X7RtOdX8N"
      },
      "outputs": [],
      "source": [
        "import re\n",
        "import requests\n",
        "from bs4 import BeautifulSoup\n",
        "import pandas as pd \n",
        "import time\n",
        "import numpy as np\n",
        "import itertools\n",
        "from tqdm import tqdm"
      ]
    },
    {
      "cell_type": "code",
      "source": [
        "#サイトのURL\n",
        "detail_url = 'https://tabelog.com/rstLst/1/?Srt=D&SrtT=rt&sort_mode=1'"
      ],
      "metadata": {
        "id": "aLG4H52xde7y"
      },
      "execution_count": null,
      "outputs": []
    },
    {
      "cell_type": "code",
      "source": [
        "res = requests.get(detail_url)\n",
        "res.encoding = res.apparent_encoding\n",
        "soup = BeautifulSoup(res.text, 'html.parser')"
      ],
      "metadata": {
        "id": "ZrJE4mJAjHF2"
      },
      "execution_count": null,
      "outputs": []
    },
    {
      "cell_type": "code",
      "source": [
        "num = [\"1\",\"2\",\"3\",\"4\",\"5\"]\n",
        "all_html = []\n",
        "for i in num:\n",
        "  # Responseオブジェクト生成\n",
        "  res = requests.get('https://tabelog.com/rstLst/'+i+'/?Srt=D&SrtT=rt&sort_mode=1')\n",
        "  # 文字化け防止\n",
        "  res.encoding = res.apparent_encoding\n",
        "  # BeautifulSoupオブジェクト生成\n",
        "  soup = BeautifulSoup(res.text, 'html.parser')\n",
        "  all_html.append(soup) #soupを空のリストに入れる\n",
        "  time.sleep(1) #1秒休む\n"
      ],
      "metadata": {
        "id": "Hlq1CqDrH_3h"
      },
      "execution_count": null,
      "outputs": []
    },
    {
      "cell_type": "code",
      "source": [
        "tabe_1 = []\n",
        "for i in all_html:\n",
        "  soup = i.find_all( class_='list-rst__rst-name-target')\n",
        "  tabe_1.append(soup)"
      ],
      "metadata": {
        "id": "2AOrRkP2wkDg"
      },
      "execution_count": null,
      "outputs": []
    },
    {
      "cell_type": "code",
      "source": [
        "res = itertools.chain(*tabe_1)\n",
        "tabe_2 = list(res)"
      ],
      "metadata": {
        "id": "rIdQnr5Q8a-p"
      },
      "execution_count": null,
      "outputs": []
    },
    {
      "cell_type": "code",
      "source": [
        "#お店のURLを取得\n",
        "restaurant_url_list = [] #空のリスト作成\n",
        "for tabe in tabe_2:\n",
        "  tabe_url = tabe.get('href') #href属性だけを取り出す\n",
        "  restaurant_url_list.append(tabe_url) #restaurant_url_listにtabe_urlを入れる"
      ],
      "metadata": {
        "id": "dl-ozoYlkOnM"
      },
      "execution_count": null,
      "outputs": []
    },
    {
      "cell_type": "code",
      "source": [
        "#それぞれのページのhtmlを取得\n",
        "tabe_soup_list = [] #空のリスト作成\n",
        "for tabe_url in tqdm(restaurant_url_list):\n",
        "  # Responseオブジェクト生成\n",
        "  res = requests.get(tabe_url)\n",
        "  # 文字化け防止\n",
        "  res.encoding = res.apparent_encoding\n",
        "  # BeautifulSoupオブジェクト生成\n",
        "  soup = BeautifulSoup(res.text, 'html.parser')\n",
        "  tabe_soup_list.append(soup) #soupを空のリストに入れる\n",
        "  time.sleep(1) #1秒休む"
      ],
      "metadata": {
        "id": "UkEo1Z02k28f"
      },
      "execution_count": null,
      "outputs": []
    },
    {
      "cell_type": "code",
      "source": [
        "#店名をrestaurant_name_listに格納\n",
        "restaurant_name_list = []#空のリストを作成\n",
        "for tabe_soup in tabe_soup_list:\n",
        "  tabe_name = tabe_soup.find('h2', class_=\"display-name\").text#タグとクラスを指定する\n",
        "  tabe_name = tabe_name.replace('\\n','')\n",
        "  restaurant_name_list.append(tabe_name)#tebe_nameをrestaurant_name_listに格納する"
      ],
      "metadata": {
        "id": "WurgHTaSqxBG"
      },
      "execution_count": null,
      "outputs": []
    },
    {
      "cell_type": "code",
      "source": [
        "#評価をrestaurant_hosi_listに格納\n",
        "restaurant_hosi_list = []#空のリストを作成\n",
        "for tabe_soup in tabe_soup_list:\n",
        "  tabe_hosi = tabe_soup.find('span', class_='rdheader-rating__score-val-dtl').text\n",
        "  restaurant_hosi_list.append(tabe_hosi)#tabe_hosiをrestaurant_hosi_listに格納する"
      ],
      "metadata": {
        "id": "5T0YtdYPsUSR"
      },
      "execution_count": null,
      "outputs": []
    },
    {
      "cell_type": "code",
      "source": [
        "#評価数をrestaurant_eva_listに格納\n",
        "restaurant_eva_list = []\n",
        "for tabe_soup in tabe_soup_list:\n",
        "  tabe_eva = tabe_soup.find('span', class_='rdheader-rating__hozon-target')\n",
        "  tabe_eva = tabe_eva.find('em', class_='num').text\n",
        "  restaurant_eva_list.append(tabe_eva)"
      ],
      "metadata": {
        "id": "g8E61SJdtrui"
      },
      "execution_count": null,
      "outputs": []
    },
    {
      "cell_type": "code",
      "source": [
        "#それぞれのデータをくっつける\n",
        "tuple_element_list = [ [name, hosi, eva] for name, hosi, eva in zip (restaurant_name_list, restaurant_hosi_list,restaurant_eva_list)]\n",
        "taberogu1 = pd.DataFrame(tuple_element_list, columns=['名前', '星', '評価数'])"
      ],
      "metadata": {
        "id": "k5A9RE1p8j4o"
      },
      "execution_count": null,
      "outputs": []
    },
    {
      "cell_type": "markdown",
      "source": [
        "とりあえずここまで"
      ],
      "metadata": {
        "id": "MXUcuHqoWVFm"
      }
    },
    {
      "cell_type": "code",
      "source": [
        "#最寄駅をrestaurant_nearest_stationに格納\n",
        "restaurant_nearest_station_list = []\n",
        "for tabe_soup in tabe_soup_list:\n",
        "  tabe_station = tabe_soup.find('div', class_='linktree__parent').text\n",
        "  tabe_station = tabe_station.replace('\\n','')\n",
        "  restaurant_nearest_station_list.append(tabe_station)\n"
      ],
      "metadata": {
        "id": "YHZzwwGYttby"
      },
      "execution_count": null,
      "outputs": []
    },
    {
      "cell_type": "code",
      "source": [
        "#ジャンルを正しくするためにこれをやる\n",
        "restaurant_hon_list = []\n",
        "for tabe_soup in tabe_soup_list:\n",
        "  tabe_genre = tabe_soup.find('table', class_='c-table--form')\n",
        "  tabe_genre = tabe_genre.find_all('th')[1].text\n",
        "  restaurant_hon_list.append(tabe_genre)\n",
        "\n",
        "#ジャンルをrestaurant_genre_listに格納\n",
        "restaurant_genre_list = []\n",
        "for tabe_soup,tabe_hon in zip(tabe_soup_list,restaurant_hon_list):\n",
        "  if tabe_hon == 'ジャンル':\n",
        "      tabe_genre = tabe_soup.find('table', class_='c-table')\n",
        "      tabe_genre = tabe_genre.find_all('td')[1].text\n",
        "      tabe_genre = tabe_genre.replace('\\n','')\n",
        "      restaurant_genre_list.append(tabe_genre)\n",
        "  else:\n",
        "      tabe_genre = tabe_soup.find('table', class_='c-table')\n",
        "      tabe_genre = tabe_genre.find_all('td')[2].text\n",
        "      tabe_genre = tabe_genre.replace('\\n','')\n",
        "      restaurant_genre_list.append(tabe_genre)"
      ],
      "metadata": {
        "id": "N8-BLwPaowe0"
      },
      "execution_count": null,
      "outputs": []
    },
    {
      "cell_type": "code",
      "source": [
        "#dinner予算をrestaurant_dinner_listに格納\n",
        "restaurant_dinner_list = []\n",
        "for tabe_soup in tabe_soup_list:\n",
        "  tabe_dinner = tabe_soup.find('span', class_='rdheader-budget__price').text\n",
        "  tabe_dinner = tabe_dinner.replace('\\n','')\n",
        "  restaurant_dinner_list.append(tabe_dinner)"
      ],
      "metadata": {
        "id": "E5axSBzO3oIn"
      },
      "execution_count": null,
      "outputs": []
    },
    {
      "cell_type": "code",
      "source": [
        "#lunch予算をrestaurant_lunch_listに格納\n",
        "restaurant_lunch_list = []\n",
        "for tabe_soup in tabe_soup_list:\n",
        "  tabe_lunch = tabe_soup.find_all('span', class_='rdheader-budget__price')[1].text\n",
        "  tabe_lunch = tabe_lunch.replace('\\n','')\n",
        "  restaurant_lunch_list.append(tabe_lunch)"
      ],
      "metadata": {
        "id": "b54qtMML6Vvh"
      },
      "execution_count": null,
      "outputs": []
    },
    {
      "cell_type": "code",
      "source": [
        "#住所をrestaurant_address_listに格納\n",
        "restaurant_address_list = []\n",
        "for tabe_soup in tabe_soup_list:\n",
        "  tabe_address = tabe_soup.find('p',class_='rstinfo-table__address').text\n",
        "  restaurant_address_list.append(tabe_address)"
      ],
      "metadata": {
        "id": "2PnKJfobxpav"
      },
      "execution_count": null,
      "outputs": []
    },
    {
      "cell_type": "code",
      "source": [
        "#都道府県をrestaurant_prefectures_listに格納\n",
        "restaurant_prefectures_list = []\n",
        "for tabe_soup in tabe_soup_list:\n",
        "  try:\n",
        "    tabe_prefectures = tabe_soup.find('a',class_='listlink').text\n",
        "    restaurant_prefectures_list.append(tabe_prefectures)\n",
        "  except AttributeError:\n",
        "    restaurant_prefectures_list.append('記載なし')\n"
      ],
      "metadata": {
        "id": "jkDHrXwkw4YX"
      },
      "execution_count": null,
      "outputs": []
    },
    {
      "cell_type": "code",
      "source": [
        "\"\"\"#市区町村をrestaurant_city_listに格納\n",
        "restaurant_city_list = []\n",
        "for tabe_soup in tabe_soup_list:\n",
        "  tabe_city = tabe_soup.find_all('a',class_='listlink')[1].text\n",
        "  restaurant_city_list.append(tabe_city)\"\"\"\n",
        "#謎エラー"
      ],
      "metadata": {
        "id": "Gr9E53yaxFcB"
      },
      "execution_count": null,
      "outputs": []
    },
    {
      "cell_type": "code",
      "source": [
        "\"\"\"#地名をrestaurant_place_name_listに格納\n",
        "restaurant_place_name_list = []\n",
        "for tabe_soup in tabe_soup_list:\n",
        "  tabe_place_name = tabe_soup.find_all('a',class_='listlink')[2].text\n",
        "  restaurant_place_name_list.append(tabe_place_name)\"\"\"\n",
        "  #謎エラーのためやめる"
      ],
      "metadata": {
        "id": "BKwLtYxUxHZl"
      },
      "execution_count": null,
      "outputs": []
    },
    {
      "cell_type": "code",
      "source": [
        "tuple_element_list = [ [name, hosi, eva,near_station,genre,dinner,lunch,address,prefectures] for name, hosi, eva,near_station,genre,dinner,lunch,address,prefectures in zip (restaurant_name_list, restaurant_hosi_list,restaurant_eva_list,restaurant_nearest_station_list,\n",
        "                                                                                                           restaurant_genre_list,restaurant_dinner_list,restaurant_lunch_list,restaurant_address_list,restaurant_prefectures_list)]\n",
        "taberogu_df = pd.DataFrame(tuple_element_list, columns=['店名', '星', '評価数', '最寄駅','ジャンル','予算（夜）','予算(昼）','住所','都道府県'])"
      ],
      "metadata": {
        "id": "8GGaLzjtB3pT"
      },
      "execution_count": null,
      "outputs": []
    },
    {
      "cell_type": "code",
      "source": [
        "taberogu_df"
      ],
      "metadata": {
        "id": "8Wo65hqtJAG3",
        "colab": {
          "base_uri": "https://localhost:8080/",
          "height": 658
        },
        "outputId": "4ddf920f-f36d-4162-f07b-5bb7f0e4d53c"
      },
      "execution_count": null,
      "outputs": [
        {
          "output_type": "execute_result",
          "data": {
            "text/plain": [
              "                                          店名     星    評価数      最寄駅  \\\n",
              "0                   日本橋蛎殻町 すぎた                4.71  67306    水天宮前駅   \n",
              "1                          にい留                4.67  29107      高岳駅   \n",
              "2                           松川                4.65  40342  六本木一丁目駅   \n",
              "3                           片折                4.64  25188    北鉄金沢駅   \n",
              "4                       鮨 さいとう                4.63  87503  六本木一丁目駅   \n",
              "..                                       ...   ...    ...      ...   \n",
              "95                         くろぎ                4.36  28136      大門駅   \n",
              "96                      鮨匠 のむら                4.36  11348    天文館通駅   \n",
              "97                         仁修樓                4.36   7359     北大路駅   \n",
              "98                     余市SAGRA                4.36   8710      余市駅   \n",
              "99                      鮨 はしぐち                4.35  17130    赤坂見附駅   \n",
              "\n",
              "            ジャンル            予算（夜）            予算(昼）  \\\n",
              "0             寿司  ￥30,000～￥39,999  ￥30,000～￥39,999   \n",
              "1            天ぷら  ￥30,000～￥39,999                -   \n",
              "2         割烹・小料理  ￥50,000～￥59,999  ￥50,000～￥59,999   \n",
              "3        懐石・会席料理  ￥30,000～￥39,999  ￥30,000～￥39,999   \n",
              "4             寿司  ￥20,000～￥29,999  ￥10,000～￥14,999   \n",
              "..           ...              ...              ...   \n",
              "95       懐石・会席料理  ￥50,000～￥59,999  ￥50,000～￥59,999   \n",
              "96            寿司  ￥20,000～￥29,999  ￥20,000～￥29,999   \n",
              "97          中華料理  ￥20,000～￥29,999                -   \n",
              "98  イタリアン、オーベルジュ                -    ￥6,000～￥7,999   \n",
              "99            寿司  ￥30,000～￥39,999                -   \n",
              "\n",
              "                                   住所  都道府県  \n",
              "0   東京都中央区日本橋蛎殻町1-33-6 ビューハイツ日本橋 B1F    東京都  \n",
              "1        愛知県名古屋市東区泉2-19-11 キャストビル泉 2F   愛知県  \n",
              "2           東京都港区赤坂1-11-6 赤坂テラスハウス １階   東京都  \n",
              "3                      石川県金沢市並木町3-36    石川県  \n",
              "4       東京都港区六本木1-4-5 アークヒルズサウスタワー 1Ｆ   東京都  \n",
              "..                                ...   ...  \n",
              "95                    東京都港区芝公園1-7-10    東京都  \n",
              "96            鹿児島県鹿児島市松原町6-2 松原ハイツ　１F  鹿児島県  \n",
              "97                京都府京都市北区紫竹北栗栖町2-12    京都府  \n",
              "98                  北海道余市郡余市町登町987-2    北海道  \n",
              "99        東京都港区元赤坂1-5-20 ロイヤル赤坂サルーン1F   東京都  \n",
              "\n",
              "[100 rows x 9 columns]"
            ],
            "text/html": [
              "\n",
              "  <div id=\"df-866d84e5-3617-4af1-b540-86221b27a07a\">\n",
              "    <div class=\"colab-df-container\">\n",
              "      <div>\n",
              "<style scoped>\n",
              "    .dataframe tbody tr th:only-of-type {\n",
              "        vertical-align: middle;\n",
              "    }\n",
              "\n",
              "    .dataframe tbody tr th {\n",
              "        vertical-align: top;\n",
              "    }\n",
              "\n",
              "    .dataframe thead th {\n",
              "        text-align: right;\n",
              "    }\n",
              "</style>\n",
              "<table border=\"1\" class=\"dataframe\">\n",
              "  <thead>\n",
              "    <tr style=\"text-align: right;\">\n",
              "      <th></th>\n",
              "      <th>店名</th>\n",
              "      <th>星</th>\n",
              "      <th>評価数</th>\n",
              "      <th>最寄駅</th>\n",
              "      <th>ジャンル</th>\n",
              "      <th>予算（夜）</th>\n",
              "      <th>予算(昼）</th>\n",
              "      <th>住所</th>\n",
              "      <th>都道府県</th>\n",
              "    </tr>\n",
              "  </thead>\n",
              "  <tbody>\n",
              "    <tr>\n",
              "      <th>0</th>\n",
              "      <td>日本橋蛎殻町 すぎた</td>\n",
              "      <td>4.71</td>\n",
              "      <td>67306</td>\n",
              "      <td>水天宮前駅</td>\n",
              "      <td>寿司</td>\n",
              "      <td>￥30,000～￥39,999</td>\n",
              "      <td>￥30,000～￥39,999</td>\n",
              "      <td>東京都中央区日本橋蛎殻町1-33-6 ビューハイツ日本橋 B1F</td>\n",
              "      <td>東京都</td>\n",
              "    </tr>\n",
              "    <tr>\n",
              "      <th>1</th>\n",
              "      <td>にい留</td>\n",
              "      <td>4.67</td>\n",
              "      <td>29107</td>\n",
              "      <td>高岳駅</td>\n",
              "      <td>天ぷら</td>\n",
              "      <td>￥30,000～￥39,999</td>\n",
              "      <td>-</td>\n",
              "      <td>愛知県名古屋市東区泉2-19-11 キャストビル泉 2F</td>\n",
              "      <td>愛知県</td>\n",
              "    </tr>\n",
              "    <tr>\n",
              "      <th>2</th>\n",
              "      <td>松川</td>\n",
              "      <td>4.65</td>\n",
              "      <td>40342</td>\n",
              "      <td>六本木一丁目駅</td>\n",
              "      <td>割烹・小料理</td>\n",
              "      <td>￥50,000～￥59,999</td>\n",
              "      <td>￥50,000～￥59,999</td>\n",
              "      <td>東京都港区赤坂1-11-6 赤坂テラスハウス １階</td>\n",
              "      <td>東京都</td>\n",
              "    </tr>\n",
              "    <tr>\n",
              "      <th>3</th>\n",
              "      <td>片折</td>\n",
              "      <td>4.64</td>\n",
              "      <td>25188</td>\n",
              "      <td>北鉄金沢駅</td>\n",
              "      <td>懐石・会席料理</td>\n",
              "      <td>￥30,000～￥39,999</td>\n",
              "      <td>￥30,000～￥39,999</td>\n",
              "      <td>石川県金沢市並木町3-36</td>\n",
              "      <td>石川県</td>\n",
              "    </tr>\n",
              "    <tr>\n",
              "      <th>4</th>\n",
              "      <td>鮨 さいとう</td>\n",
              "      <td>4.63</td>\n",
              "      <td>87503</td>\n",
              "      <td>六本木一丁目駅</td>\n",
              "      <td>寿司</td>\n",
              "      <td>￥20,000～￥29,999</td>\n",
              "      <td>￥10,000～￥14,999</td>\n",
              "      <td>東京都港区六本木1-4-5 アークヒルズサウスタワー 1Ｆ</td>\n",
              "      <td>東京都</td>\n",
              "    </tr>\n",
              "    <tr>\n",
              "      <th>...</th>\n",
              "      <td>...</td>\n",
              "      <td>...</td>\n",
              "      <td>...</td>\n",
              "      <td>...</td>\n",
              "      <td>...</td>\n",
              "      <td>...</td>\n",
              "      <td>...</td>\n",
              "      <td>...</td>\n",
              "      <td>...</td>\n",
              "    </tr>\n",
              "    <tr>\n",
              "      <th>95</th>\n",
              "      <td>くろぎ</td>\n",
              "      <td>4.36</td>\n",
              "      <td>28136</td>\n",
              "      <td>大門駅</td>\n",
              "      <td>懐石・会席料理</td>\n",
              "      <td>￥50,000～￥59,999</td>\n",
              "      <td>￥50,000～￥59,999</td>\n",
              "      <td>東京都港区芝公園1-7-10</td>\n",
              "      <td>東京都</td>\n",
              "    </tr>\n",
              "    <tr>\n",
              "      <th>96</th>\n",
              "      <td>鮨匠 のむら</td>\n",
              "      <td>4.36</td>\n",
              "      <td>11348</td>\n",
              "      <td>天文館通駅</td>\n",
              "      <td>寿司</td>\n",
              "      <td>￥20,000～￥29,999</td>\n",
              "      <td>￥20,000～￥29,999</td>\n",
              "      <td>鹿児島県鹿児島市松原町6-2 松原ハイツ　１F</td>\n",
              "      <td>鹿児島県</td>\n",
              "    </tr>\n",
              "    <tr>\n",
              "      <th>97</th>\n",
              "      <td>仁修樓</td>\n",
              "      <td>4.36</td>\n",
              "      <td>7359</td>\n",
              "      <td>北大路駅</td>\n",
              "      <td>中華料理</td>\n",
              "      <td>￥20,000～￥29,999</td>\n",
              "      <td>-</td>\n",
              "      <td>京都府京都市北区紫竹北栗栖町2-12</td>\n",
              "      <td>京都府</td>\n",
              "    </tr>\n",
              "    <tr>\n",
              "      <th>98</th>\n",
              "      <td>余市SAGRA</td>\n",
              "      <td>4.36</td>\n",
              "      <td>8710</td>\n",
              "      <td>余市駅</td>\n",
              "      <td>イタリアン、オーベルジュ</td>\n",
              "      <td>-</td>\n",
              "      <td>￥6,000～￥7,999</td>\n",
              "      <td>北海道余市郡余市町登町987-2</td>\n",
              "      <td>北海道</td>\n",
              "    </tr>\n",
              "    <tr>\n",
              "      <th>99</th>\n",
              "      <td>鮨 はしぐち</td>\n",
              "      <td>4.35</td>\n",
              "      <td>17130</td>\n",
              "      <td>赤坂見附駅</td>\n",
              "      <td>寿司</td>\n",
              "      <td>￥30,000～￥39,999</td>\n",
              "      <td>-</td>\n",
              "      <td>東京都港区元赤坂1-5-20 ロイヤル赤坂サルーン1F</td>\n",
              "      <td>東京都</td>\n",
              "    </tr>\n",
              "  </tbody>\n",
              "</table>\n",
              "<p>100 rows × 9 columns</p>\n",
              "</div>\n",
              "      <button class=\"colab-df-convert\" onclick=\"convertToInteractive('df-866d84e5-3617-4af1-b540-86221b27a07a')\"\n",
              "              title=\"Convert this dataframe to an interactive table.\"\n",
              "              style=\"display:none;\">\n",
              "        \n",
              "  <svg xmlns=\"http://www.w3.org/2000/svg\" height=\"24px\"viewBox=\"0 0 24 24\"\n",
              "       width=\"24px\">\n",
              "    <path d=\"M0 0h24v24H0V0z\" fill=\"none\"/>\n",
              "    <path d=\"M18.56 5.44l.94 2.06.94-2.06 2.06-.94-2.06-.94-.94-2.06-.94 2.06-2.06.94zm-11 1L8.5 8.5l.94-2.06 2.06-.94-2.06-.94L8.5 2.5l-.94 2.06-2.06.94zm10 10l.94 2.06.94-2.06 2.06-.94-2.06-.94-.94-2.06-.94 2.06-2.06.94z\"/><path d=\"M17.41 7.96l-1.37-1.37c-.4-.4-.92-.59-1.43-.59-.52 0-1.04.2-1.43.59L10.3 9.45l-7.72 7.72c-.78.78-.78 2.05 0 2.83L4 21.41c.39.39.9.59 1.41.59.51 0 1.02-.2 1.41-.59l7.78-7.78 2.81-2.81c.8-.78.8-2.07 0-2.86zM5.41 20L4 18.59l7.72-7.72 1.47 1.35L5.41 20z\"/>\n",
              "  </svg>\n",
              "      </button>\n",
              "      \n",
              "  <style>\n",
              "    .colab-df-container {\n",
              "      display:flex;\n",
              "      flex-wrap:wrap;\n",
              "      gap: 12px;\n",
              "    }\n",
              "\n",
              "    .colab-df-convert {\n",
              "      background-color: #E8F0FE;\n",
              "      border: none;\n",
              "      border-radius: 50%;\n",
              "      cursor: pointer;\n",
              "      display: none;\n",
              "      fill: #1967D2;\n",
              "      height: 32px;\n",
              "      padding: 0 0 0 0;\n",
              "      width: 32px;\n",
              "    }\n",
              "\n",
              "    .colab-df-convert:hover {\n",
              "      background-color: #E2EBFA;\n",
              "      box-shadow: 0px 1px 2px rgba(60, 64, 67, 0.3), 0px 1px 3px 1px rgba(60, 64, 67, 0.15);\n",
              "      fill: #174EA6;\n",
              "    }\n",
              "\n",
              "    [theme=dark] .colab-df-convert {\n",
              "      background-color: #3B4455;\n",
              "      fill: #D2E3FC;\n",
              "    }\n",
              "\n",
              "    [theme=dark] .colab-df-convert:hover {\n",
              "      background-color: #434B5C;\n",
              "      box-shadow: 0px 1px 3px 1px rgba(0, 0, 0, 0.15);\n",
              "      filter: drop-shadow(0px 1px 2px rgba(0, 0, 0, 0.3));\n",
              "      fill: #FFFFFF;\n",
              "    }\n",
              "  </style>\n",
              "\n",
              "      <script>\n",
              "        const buttonEl =\n",
              "          document.querySelector('#df-866d84e5-3617-4af1-b540-86221b27a07a button.colab-df-convert');\n",
              "        buttonEl.style.display =\n",
              "          google.colab.kernel.accessAllowed ? 'block' : 'none';\n",
              "\n",
              "        async function convertToInteractive(key) {\n",
              "          const element = document.querySelector('#df-866d84e5-3617-4af1-b540-86221b27a07a');\n",
              "          const dataTable =\n",
              "            await google.colab.kernel.invokeFunction('convertToInteractive',\n",
              "                                                     [key], {});\n",
              "          if (!dataTable) return;\n",
              "\n",
              "          const docLinkHtml = 'Like what you see? Visit the ' +\n",
              "            '<a target=\"_blank\" href=https://colab.research.google.com/notebooks/data_table.ipynb>data table notebook</a>'\n",
              "            + ' to learn more about interactive tables.';\n",
              "          element.innerHTML = '';\n",
              "          dataTable['output_type'] = 'display_data';\n",
              "          await google.colab.output.renderOutput(dataTable, element);\n",
              "          const docLink = document.createElement('div');\n",
              "          docLink.innerHTML = docLinkHtml;\n",
              "          element.appendChild(docLink);\n",
              "        }\n",
              "      </script>\n",
              "    </div>\n",
              "  </div>\n",
              "  "
            ]
          },
          "metadata": {},
          "execution_count": 54
        }
      ]
    }
  ]
}